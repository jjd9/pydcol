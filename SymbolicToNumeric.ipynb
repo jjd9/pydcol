{
 "cells": [
  {
   "cell_type": "code",
   "execution_count": 3,
   "id": "strategic-nightmare",
   "metadata": {},
   "outputs": [],
   "source": [
    "from sympy import sin, cos, lambdify, Matrix, Symbol, symbols, hessian\n",
    "from sympy.matrices.dense import matrix_multiply_elementwise\n",
    "\n",
    "from scipy.optimize import minimize, NonlinearConstraint\n",
    "\n",
    "import numdifftools as nd\n",
    "\n",
    "import numpy as np\n",
    "\n",
    "import matplotlib.pyplot as plt\n",
    "%matplotlib inline"
   ]
  },
  {
   "cell_type": "code",
   "execution_count": 8,
   "id": "instructional-grace",
   "metadata": {},
   "outputs": [],
   "source": [
    "from symengine import zeros, diff, sympify, Lambdify, LambdifyCSE\n",
    "\n",
    "def fast_jac(expr, vs):\n",
    "    J = zeros(len(expr), len(vs))\n",
    "    for i in range(len(expr)):\n",
    "        for j in range(len(vs)):\n",
    "            J[i, j] = diff(expr[i], vs[j])\n",
    "    return J\n",
    "\n",
    "def fast_hess(expr, vs):\n",
    "    H = zeros(len(vs), len(vs))\n",
    "    for i in range(len(vs)):\n",
    "        for j in range(len(vs)):\n",
    "            if i > j:\n",
    "                H[i, j] = H[j, i]\n",
    "            else:\n",
    "                H[i, j] = diff(expr, vs[i], vs[j])\n",
    "    return H\n",
    "\n",
    "def fast_half_hess(expr, vs):\n",
    "    H = zeros(len(vs), len(vs))\n",
    "    for i in range(len(vs)):\n",
    "        for j in range(i, len(vs)):\n",
    "            H[i, j] = diff(expr, vs[i], vs[j])\n",
    "            if i == j:\n",
    "                H[i,j] *= 0.5\n",
    "    return H\n",
    "\n"
   ]
  },
  {
   "cell_type": "markdown",
   "id": "floppy-spice",
   "metadata": {},
   "source": [
    "## Cart-pole Swingup"
   ]
  },
  {
   "cell_type": "code",
   "execution_count": 16,
   "id": "together-motel",
   "metadata": {},
   "outputs": [],
   "source": [
    "# physical parameters\n",
    "l = 0.3\n",
    "m1 = 1.0 # cart mass\n",
    "m2 = 0.25 # mass at end of pole\n",
    "g = 9.81\n",
    "\n",
    "\n",
    "# define variables\n",
    "q1, q2, q1_dot, q2_dot = symbols(\"q1 q2 q1_dot q2_dot\")\n",
    "u = symbols(\"u\")\n",
    "state_vars = [q1, q2, q1_dot, q2_dot]\n",
    "control_vars = [u]\n",
    "\n",
    "# Given system equations\n",
    "q1_d2dot = (l*m2*sin(q2)*q2_dot**2 + u + m2*g*cos(q2)*sin(q2))/(m1 + m2*(1-cos(q2)**2))\n",
    "q2_d2dot = - (l*m2*cos(q2)*sin(q2)*q2_dot**2 + u*cos(q2) + (m1+m2)*g*sin(q2))/(l*m1 + l*m2*(1-cos(q2)**2))\n",
    "ode = [q1_dot, q2_dot, q1_d2dot, q2_d2dot]\n",
    "\n",
    "t0_ = 0; tf_ = 3; N_ = 10;\n",
    "\n",
    "dist = 4.0 # distance traveled during swing-up maneuver\n",
    "\n",
    "X_start = np.array([0, 0, 0, 0]) # arbitrary goal state\n",
    "X_goal = np.array([dist, np.pi, 0, 0]) # arbitrary goal state\n",
    "\n",
    "_q1 = np.random.random(N_)\n",
    "_q2 = np.random.random(N_)\n",
    "_q1_dot = np.random.random(N_)\n",
    "_q2_dot = np.random.random(N_)\n",
    "_u = np.random.random(N_)\n",
    "\n",
    "test_arg = np.array([_q1, _q2, _q1_dot, _q2_dot, _u]).T.ravel()\n",
    "_test_arg = np.array([_q1, _q2, _q1_dot, _q2_dot, _u]).T\n",
    "\n",
    "# bounds\n",
    "u_max = 20\n",
    "dist_min, dist_max = -10, 10\n",
    "bounds = [[dist_min, dist_max],[-2*np.pi,2*np.pi],[-100,100],[-100,100],[-u_max,u_max]]*N_"
   ]
  },
  {
   "cell_type": "markdown",
   "id": "suitable-welcome",
   "metadata": {},
   "source": [
    "## Block Move"
   ]
  },
  {
   "cell_type": "code",
   "execution_count": 136,
   "id": "sustained-preview",
   "metadata": {},
   "outputs": [],
   "source": [
    "# define variables\n",
    "x, v = symbols(\"x v\")\n",
    "u = symbols(\"u\")\n",
    "state_vars = [x, v]\n",
    "control_vars = [u]\n",
    "\n",
    "# Given system equations\n",
    "ode = [v, u]\n",
    "\n",
    "t0_ = 0; tf_ = 5; N_ = 10;\n",
    "\n",
    "X_start = np.array([0, 0]) # arbitrary goal state\n",
    "X_goal = np.array([2, 0]) # arbitrary goal state\n",
    "\n",
    "_x = np.random.random(N_)\n",
    "_v = np.random.random(N_)\n",
    "_u = np.random.random(N_)\n",
    "\n",
    "test_arg = np.array([_x, _v,_u]).T.ravel()\n",
    "\n",
    "# bounds = [[lb_x, ub_x],[lb_v, ub_v],[lb_u, ub_u]]\n",
    "u_max = 10\n",
    "bounds = [[None,None],[None,None],[-u_max, u_max]]*N_"
   ]
  },
  {
   "cell_type": "markdown",
   "id": "imported-relation",
   "metadata": {},
   "source": [
    "## Variable Book-keeping"
   ]
  },
  {
   "cell_type": "code",
   "execution_count": 17,
   "id": "alone-switch",
   "metadata": {},
   "outputs": [],
   "source": [
    "# some arbitrary values for testing\n",
    "tspan = np.linspace(t0_, tf_, N_)\n",
    "\n",
    "# Get variable dimensions\n",
    "N = tspan.size\n",
    "X_dim = len(state_vars)\n",
    "U_dim = len(control_vars)\n",
    "all_vars = state_vars + control_vars\n",
    "\n",
    "_h = tspan[1:] - tspan[:-1]"
   ]
  },
  {
   "cell_type": "code",
   "execution_count": 18,
   "id": "median-workshop",
   "metadata": {},
   "outputs": [],
   "source": [
    "# Create a set of \"prev\" variables for accessing values at previous time step \n",
    "prev_all_vars = [Symbol(str(var)+\"_prev\") for var in all_vars]\n",
    "\n",
    "prev_dict = {}\n",
    "for i in range(len(all_vars)):\n",
    "    prev_dict[all_vars[i]] = prev_all_vars[i]\n",
    "\n",
    "# internal optimization variable map\n",
    "X_sym = Symbol(\"X\")\n",
    "U_sym = Symbol(\"U\")\n",
    "X_prev_sym = Symbol(\"Xprev\")\n",
    "U_prev_sym = Symbol(\"Uprev\")\n",
    "opt_vars = [Symbol(f\"X[{i}]\") for i in range(len(state_vars))]\n",
    "opt_vars += [Symbol(f\"U[{j}]\") for j in range(len(control_vars))]\n",
    "opt_vars += [Symbol(f\"Xprev[{i}]\") for i in range(len(state_vars))]\n",
    "opt_vars += [Symbol(f\"Uprev[{j}]\") for j in range(len(control_vars))]\n",
    "\n",
    "h = Symbol(\"h\") # symbolic time step\n",
    "\n",
    "opt_dict = {}\n",
    "for i in range(len(all_vars)):\n",
    "    opt_dict[all_vars[i]] = opt_vars[i] \n",
    "for i in range(len(all_vars)):\n",
    "    j = i + len(all_vars)\n",
    "    opt_dict[prev_all_vars[i]] = opt_vars[j] "
   ]
  },
  {
   "cell_type": "markdown",
   "id": "final-words",
   "metadata": {},
   "source": [
    "# NOTE\n",
    "For these operations, we will assume the order of optimization variables is:\n",
    "X0, U0, X1, U1, ..., XN, UN"
   ]
  },
  {
   "cell_type": "markdown",
   "id": "located-loading",
   "metadata": {},
   "source": [
    "## Objective"
   ]
  },
  {
   "cell_type": "code",
   "execution_count": 19,
   "id": "ongoing-arabic",
   "metadata": {},
   "outputs": [],
   "source": [
    "X = Matrix(state_vars)\n",
    "U = Matrix(control_vars)\n",
    "\n",
    "# Scalar Objective\n",
    "err = X - Matrix(X_goal)\n",
    "state_error = err.multiply_elementwise(err)\n",
    "effort = U.multiply_elementwise(U)\n",
    "\n",
    "Obj = 0.1 * np.sum(state_error[:]) + np.sum(effort[:])\n",
    "obj_lambda = Lambdify(all_vars, Obj, order='F')\n",
    "\n",
    "# create callback for scipy\n",
    "def obj_numeric(arg):\n",
    "    V = arg.reshape(N, X_dim+U_dim)\n",
    "    return obj_lambda(V.T).sum()\n",
    "\n",
    "# Gradient vector (\"jac\")\n",
    "obj_jac = Matrix([Obj]).jacobian(all_vars)\n",
    "obj_jac_lambda = Lambdify(all_vars, obj_jac, order='F')\n",
    "\n",
    "def obj_jac_numeric(arg):\n",
    "    V = arg.reshape(N, X_dim+U_dim)\n",
    "    return obj_jac_lambda(V.T).squeeze().T.ravel()\n",
    "\n",
    "# hessian matrix (\"hess\")\n",
    "obj_hess = hessian(Obj, all_vars)\n",
    "obj_hess_lambda = Lambdify(all_vars, obj_hess, order='F', backend='llvm') \n",
    "\n",
    "def obj_hess_numeric(arg):\n",
    "    V = arg.reshape(N, X_dim+U_dim)\n",
    "    hess_block = obj_hess_lambda(V.T)\n",
    "    Sys_dim = X_dim + U_dim\n",
    "    Opt_dim = Sys_dim * N\n",
    "    hess = np.zeros((Opt_dim, Opt_dim), dtype=np.float)\n",
    "    for i in range(N):\n",
    "        hess[i*Sys_dim:i*Sys_dim + Sys_dim, i*Sys_dim:i*Sys_dim + Sys_dim] = hess_block[:,:,i]\n",
    "    return hess\n"
   ]
  },
  {
   "cell_type": "code",
   "execution_count": 20,
   "id": "capital-secondary",
   "metadata": {},
   "outputs": [
    {
     "data": {
      "text/plain": [
       "<matplotlib.image.AxesImage at 0x209e5d52580>"
      ]
     },
     "execution_count": 20,
     "metadata": {},
     "output_type": "execute_result"
    },
    {
     "data": {
      "image/png": "[encoded data removed]",
      "text/plain": [
       "<Figure size 432x288 with 1 Axes>"
      ]
     },
     "metadata": {
      "needs_background": "light"
     },
     "output_type": "display_data"
    }
   ],
   "source": [
    "# Check sparsity pattern of hessian, should be diagonal\n",
    "plt.spy(obj_hess_numeric(test_arg))"
   ]
  },
  {
   "cell_type": "code",
   "execution_count": 21,
   "id": "unavailable-rally",
   "metadata": {},
   "outputs": [
    {
     "name": "stdout",
     "output_type": "stream",
     "text": [
      "Passed Jac test:  True\n",
      "Passed Hess test:  True\n"
     ]
    }
   ],
   "source": [
    "if N < 20: # only debug on small systems, don't use for big systems because numdifftools will take forever\n",
    "    # sanity check against numeric jacobian and hessian\n",
    "    Jac = nd.Jacobian(obj_numeric)\n",
    "    print(\"Passed Jac test: \", np.allclose(Jac(test_arg), obj_jac_numeric(test_arg)))\n",
    "    Hess = nd.Hessian(obj_numeric)\n",
    "    print(\"Passed Hess test: \", np.allclose(Hess(test_arg), obj_hess_numeric(test_arg)))"
   ]
  },
  {
   "cell_type": "markdown",
   "id": "respiratory-zambia",
   "metadata": {},
   "source": [
    "## Equality Constraint"
   ]
  },
  {
   "cell_type": "code",
   "execution_count": 22,
   "id": "composite-dakota",
   "metadata": {},
   "outputs": [],
   "source": [
    "# Equality Constraints\n",
    "C_eq = []\n",
    "\n",
    "# # Trapezoid method\n",
    "# for i in range(X_dim):\n",
    "#     C_eq += [state_vars[i] - state_vars[i].subs(prev_dict) - 0.5 * h * (ode[i] + ode[i].subs(prev_dict))]\n",
    "\n",
    "# Hermite Simpson method\n",
    "mid_dict = {}\n",
    "for j in range(len(control_vars)):\n",
    "    mid_dict[control_vars[j]] = 0.5 * (control_vars[j] + control_vars[j].subs(prev_dict))\n",
    "for i in range(X_dim):\n",
    "    mid_dict[state_vars[i]] = 0.5 * (state_vars[i] + state_vars[i].subs(prev_dict)) + (h/8.0) * (ode[i].subs(prev_dict) - ode[i])\n",
    "for i in range(X_dim):\n",
    "    C_eq += [state_vars[i] - state_vars[i].subs(prev_dict) - (h/6.0) * (ode[i] + 4.0 * ode[i].subs(mid_dict) + ode[i].subs(prev_dict))]\n",
    "\n",
    "C_eq = Matrix(C_eq)\n",
    "\n",
    "ceq_lambda = Lambdify(prev_all_vars+all_vars+[h], C_eq, order='F')\n",
    "\n",
    "# create callback for scipy\n",
    "def ceq_numeric(arg):\n",
    "    V = arg.reshape(N, X_dim+U_dim)\n",
    "    _X = V[:,:X_dim]\n",
    "    _in = np.hstack((V[:-1,:], V[1:,:],_h.reshape(-1,1)))\n",
    "    _out = ceq_lambda(_in.T).T.ravel()\n",
    "    initial_constr = (_X[0,:] - X_start).ravel()\n",
    "    terminal_constr = (_X[-1,:] - X_goal).ravel()\n",
    "    return np.hstack((_out, initial_constr, terminal_constr))\n",
    "\n",
    "# jacobian matrix (\"jac\")\n",
    "ceq_jac = Matrix(fast_jac(C_eq, prev_all_vars + all_vars)).T\n",
    "ceq_jac_lambda = Lambdify(prev_all_vars+all_vars+[h], ceq_jac, order='F')\n",
    "\n",
    "def ceq_jac_numeric(arg):\n",
    "    V = arg.reshape(N, X_dim+U_dim)\n",
    "    _in = np.hstack((V[:-1,:], V[1:,:],_h.reshape(-1,1)))\n",
    "    J = ceq_jac_lambda(_in.T)\n",
    "\n",
    "    # jac should be Num_constraints x Opt_dim\n",
    "    Opt_dim = (X_dim + U_dim)\n",
    "    Ceq_dim = len(ode)\n",
    "    jac = np.zeros((Ceq_dim * (N-1) + 2 * X_dim, Opt_dim * N))\n",
    "    for i in range(N-1):\n",
    "        jac[i*Ceq_dim:i*Ceq_dim + Ceq_dim, i*Opt_dim:(i+1)*Opt_dim + Opt_dim] = J[:,:,i].T\n",
    "    # initial and terminal constraint gradients are easy\n",
    "    jac[Ceq_dim * (N-1):Ceq_dim * (N-1) + X_dim, :X_dim] = np.eye(X_dim)\n",
    "    jac[Ceq_dim * (N-1) + X_dim:,-(X_dim+U_dim):-U_dim] = np.eye(X_dim)\n",
    "    return jac\n",
    "\n",
    "# Hessian Matrix (\"hess\")\n",
    "n_eq = C_eq.shape[0]\n",
    "# lagrange multipliers\n",
    "lamb = Matrix([\"lambda\" + str(i) for i in range(n_eq)]).reshape(n_eq, 1)\n",
    "\n",
    "ceq_hess = Matrix(fast_half_hess((C_eq.T * lamb)[0], prev_all_vars + all_vars))\n",
    "ceq_hess_lamb = Lambdify(prev_all_vars+all_vars+list(lamb)+[h], ceq_hess, order='F')\n",
    "\n",
    "\n",
    "# if the hessian is all zero, the equality constraints are linear\n",
    "if len(ceq_hess.free_symbols) == 0:\n",
    "    def ceq_hess_numeric(arg_x, arg_v):\n",
    "        return np.zeros((arg_x.size, arg_x.size), dtype=np.float)\n",
    "else:\n",
    "    def ceq_hess_numeric(arg_x, arg_v):\n",
    "        V = arg_x.reshape(N, X_dim+U_dim)\n",
    "        _L = arg_v[:-2*X_dim].reshape(N-1, n_eq)\n",
    "        _in = np.hstack((V[:-1,:], V[1:,:], _L, _h.reshape(-1,1)))\n",
    "        H = ceq_hess_lamb(_in.T)\n",
    "\n",
    "        # Reshape the lagrange multiplier vector\n",
    "        hess = np.zeros((arg_x.size, arg_x.size), dtype=np.float)\n",
    "\n",
    "        Opt_dim = (X_dim + U_dim)\n",
    "\n",
    "        for i in range(N-1):\n",
    "            hess[i*Opt_dim:(i+1)*Opt_dim + Opt_dim, i*Opt_dim:(i+1)*Opt_dim + Opt_dim] += H[:,:,i] + H[:,:,i].T\n",
    "\n",
    "        # linear initial and terminal constraints just go to zero\n",
    "        return hess\n"
   ]
  },
  {
   "cell_type": "code",
   "execution_count": 23,
   "id": "union-samuel",
   "metadata": {},
   "outputs": [
    {
     "data": {
      "text/plain": [
       "<matplotlib.image.AxesImage at 0x209e8fc8400>"
      ]
     },
     "execution_count": 23,
     "metadata": {},
     "output_type": "execute_result"
    },
    {
     "data": {
      "image/png": "[encoded data removed]",
      "text/plain": [
       "<Figure size 432x288 with 1 Axes>"
      ]
     },
     "metadata": {
      "needs_background": "light"
     },
     "output_type": "display_data"
    }
   ],
   "source": [
    "# Check sparsity pattern of jacobian\n",
    "plt.spy(ceq_jac_numeric(test_arg))"
   ]
  },
  {
   "cell_type": "code",
   "execution_count": 24,
   "id": "constant-consumption",
   "metadata": {},
   "outputs": [
    {
     "data": {
      "text/plain": [
       "<matplotlib.image.AxesImage at 0x209efececa0>"
      ]
     },
     "execution_count": 24,
     "metadata": {},
     "output_type": "execute_result"
    },
    {
     "data": {
      "image/png": "[encoded data removed]",
      "text/plain": [
       "<Figure size 432x288 with 1 Axes>"
      ]
     },
     "metadata": {
      "needs_background": "light"
     },
     "output_type": "display_data"
    }
   ],
   "source": [
    "_lamb = np.random.random(n_eq * (N-1) + 2*X_dim)\n",
    "\n",
    "# Check sparsity pattern of hessian\n",
    "plt.spy(ceq_hess_numeric(test_arg, _lamb))"
   ]
  },
  {
   "cell_type": "code",
   "execution_count": 145,
   "id": "underlying-mainland",
   "metadata": {},
   "outputs": [
    {
     "name": "stdout",
     "output_type": "stream",
     "text": [
      "Passed Jac test:  True\n",
      "Passed Hess test:  True\n"
     ]
    }
   ],
   "source": [
    "if N < 20: # only debug on small systems, don't use for big systems because numdifftools will take forever\n",
    "    # sanity check against numeric jacobian and hessian\n",
    "    Jac = nd.Jacobian(ceq_numeric)\n",
    "    print(\"Passed Jac test: \", np.allclose(Jac(test_arg), ceq_jac_numeric(test_arg)))\n",
    "\n",
    "    def ceq_numeric_dot_lamb(arg):\n",
    "        _ceq = ceq_numeric(arg)\n",
    "        return _ceq.dot(_lamb)\n",
    "\n",
    "    Hess = nd.Hessian(ceq_numeric_dot_lamb)\n",
    "    print(\"Passed Hess test: \", np.allclose(Hess(test_arg), ceq_hess_numeric(test_arg, _lamb)))    "
   ]
  },
  {
   "cell_type": "markdown",
   "id": "guilty-parker",
   "metadata": {},
   "source": [
    "## Optimization Problem"
   ]
  },
  {
   "cell_type": "code",
   "execution_count": 146,
   "id": "circular-guinea",
   "metadata": {},
   "outputs": [],
   "source": [
    "x0 = [X_start.tolist() + [1.0]]\n",
    "for i in range(N-1):\n",
    "    xnew = X_start + (X_goal - X_start) * i / N\n",
    "    x0.append(xnew.tolist() + [1.0])\n",
    "x0 = np.array(x0).ravel()"
   ]
  },
  {
   "cell_type": "code",
   "execution_count": 147,
   "id": "focal-magnet",
   "metadata": {},
   "outputs": [
    {
     "name": "stdout",
     "output_type": "stream",
     "text": [
      "Done\n",
      "Success :-)\n",
      "Constraint violation:  2.220446049250313e-16\n",
      "Iterations:  20\n"
     ]
    }
   ],
   "source": [
    "constr_eq = NonlinearConstraint(ceq_numeric, \n",
    "                                lb=0, \n",
    "                                ub=0, \n",
    "                                jac=ceq_jac_numeric,\n",
    "                                hess=ceq_hess_numeric)\n",
    "\n",
    "sol_opt = minimize(obj_numeric, \n",
    "                   x0, \n",
    "                   method=\"trust-constr\", \n",
    "                   jac=obj_jac_numeric, \n",
    "                   hess=obj_hess_numeric, \n",
    "                   constraints=(constr_eq), \n",
    "                   bounds=bounds,\n",
    "                   options={'sparse_jacobian': True})\n",
    "print(\"Done\")\n",
    "if sol_opt.success:\n",
    "    print(\"Success :-)\")\n",
    "else:\n",
    "    print(\"Failure :-(\")\n",
    "\n",
    "print(\"Constraint violation: \", sol_opt.constr_violation)\n",
    "print(\"Iterations: \", sol_opt.niter)"
   ]
  },
  {
   "cell_type": "code",
   "execution_count": 148,
   "id": "liquid-blond",
   "metadata": {},
   "outputs": [],
   "source": [
    "arg = sol_opt.x\n",
    "V = arg.reshape(N, X_dim+U_dim)\n",
    "_X = V[:, :X_dim].T\n",
    "_U = V[:, X_dim:X_dim+U_dim].T"
   ]
  },
  {
   "cell_type": "code",
   "execution_count": 149,
   "id": "deluxe-phone",
   "metadata": {},
   "outputs": [
    {
     "data": {
      "text/plain": [
       "[<matplotlib.lines.Line2D at 0x1f337223760>]"
      ]
     },
     "execution_count": 149,
     "metadata": {},
     "output_type": "execute_result"
    },
    {
     "data": {
      "image/png": "[encoded data removed]",
      "text/plain": [
       "<Figure size 432x288 with 1 Axes>"
      ]
     },
     "metadata": {
      "needs_background": "light"
     },
     "output_type": "display_data"
    }
   ],
   "source": [
    "plt.plot(_X[0,:])\n",
    "plt.plot(_X[1,:])"
   ]
  },
  {
   "cell_type": "code",
   "execution_count": 150,
   "id": "dried-cherry",
   "metadata": {},
   "outputs": [
    {
     "data": {
      "text/plain": [
       "[<matplotlib.lines.Line2D at 0x1f33727b400>]"
      ]
     },
     "execution_count": 150,
     "metadata": {},
     "output_type": "execute_result"
    },
    {
     "data": {
      "image/png": "[encoded data removed]",
      "text/plain": [
       "<Figure size 432x288 with 1 Axes>"
      ]
     },
     "metadata": {
      "needs_background": "light"
     },
     "output_type": "display_data"
    }
   ],
   "source": [
    "plt.plot(_U[0,:])"
   ]
  },
  {
   "cell_type": "code",
   "execution_count": null,
   "id": "based-fellowship",
   "metadata": {},
   "outputs": [],
   "source": []
  },
  {
   "cell_type": "code",
   "execution_count": null,
   "id": "tired-inside",
   "metadata": {},
   "outputs": [],
   "source": []
  }
 ],
 "metadata": {
  "kernelspec": {
   "display_name": "Python 3",
   "language": "python",
   "name": "python3"
  },
  "language_info": {
   "codemirror_mode": {
    "name": "ipython",
    "version": 3
   },
   "file_extension": ".py",
   "mimetype": "text/x-python",
   "name": "python",
   "nbconvert_exporter": "python",
   "pygments_lexer": "ipython3",
   "version": "3.8.6"
  }
 },
 "nbformat": 4,
 "nbformat_minor": 5
}
